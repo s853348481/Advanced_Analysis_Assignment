{
 "cells": [
  {
   "cell_type": "code",
   "execution_count": null,
   "id": "15983245",
   "metadata": {},
   "outputs": [],
   "source": [
    "import pandas as pd\n",
    "import numpy as np\n",
    "from sklearn.model_selection import train_test_split\n",
    "from sklearn import preprocessing\n",
    "from sklearn.compose import make_column_transformer\n",
    "from sklearn.preprocessing import KBinsDiscretizer\n",
    "\n",
    "%matplotlib inline\n",
    "import matplotlib.pyplot as plt\n",
    "import seaborn as sns"
   ]
  },
  {
   "cell_type": "markdown",
   "id": "07afc1f2",
   "metadata": {},
   "source": [
    "## Load Data (Change to your path)"
   ]
  },
  {
   "cell_type": "code",
   "execution_count": null,
   "id": "a8796df3",
   "metadata": {},
   "outputs": [],
   "source": [
    "data = pd.read_csv('/home/omar/Documents/MAI/Semester2/Advanced-analytics/data/train_month_3_with_target.csv')"
   ]
  },
  {
   "cell_type": "markdown",
   "id": "6fb44b91",
   "metadata": {},
   "source": [
    "#### Simple Data Description"
   ]
  },
  {
   "cell_type": "code",
   "execution_count": null,
   "id": "d727f69a",
   "metadata": {},
   "outputs": [],
   "source": [
    "print(str(data.shape[0]) + ' records')\n",
    "print(str(data.columns.size) + ' attributes','\\n')\n",
    "\n",
    "print(data[\"target\"].value_counts(),'\\n')\n",
    "\n",
    "\n",
    "data_types = data.dtypes\n",
    "print(data_types)\n",
    "\n",
    "data.head()"
   ]
  },
  {
   "cell_type": "markdown",
   "id": "a4d41647",
   "metadata": {},
   "source": [
    "## Split Data"
   ]
  },
  {
   "cell_type": "code",
   "execution_count": null,
   "id": "04e6e026",
   "metadata": {},
   "outputs": [],
   "source": [
    "# (run once)\n",
    "target = data[\"target\"]\n",
    "\n",
    "#drop target as well as replaced columns customer_birth_date ---> age\n",
    "#(run once)\n",
    "data_modified = data.drop([\"client_id\", \"target\"], axis = 1)"
   ]
  },
  {
   "cell_type": "code",
   "execution_count": null,
   "id": "a893f406",
   "metadata": {},
   "outputs": [],
   "source": [
    "from sklearn.model_selection import train_test_split\n",
    "\n",
    "X_train, X_test, y_train, y_test = train_test_split(data_modified, target, test_size=0.3, random_state=0)\n",
    "\n",
    "\n",
    "print(\"Size of train data: {}\".format(len(X_train)))\n",
    "print(\"Size of test data: {}\".format(len(X_test)))\n",
    "\n",
    "print()\n",
    "print(\"labels distribution in train data: \")\n",
    "print(y_train.value_counts())\n",
    "print()\n",
    "print(\"labels distribution in test data: \")\n",
    "print(y_test.value_counts())"
   ]
  },
  {
   "cell_type": "code",
   "execution_count": null,
   "id": "f2523def",
   "metadata": {},
   "outputs": [],
   "source": [
    "# Feature Engineering"
   ]
  },
  {
   "cell_type": "markdown",
   "id": "56838995",
   "metadata": {},
   "source": [
    "### (Training Data) customer_since_all, customer_since_bank, customer_birth_date ---> to calculate difference in years"
   ]
  },
  {
   "cell_type": "code",
   "execution_count": null,
   "id": "5959214b",
   "metadata": {},
   "outputs": [],
   "source": [
    "X_train[\"customer_birth_date\"] = pd.to_datetime(X_train[\"customer_birth_date\"])\n",
    "X_train[\"age\"] = X_train[\"customer_birth_date\"].apply(lambda x : (pd.datetime.now().year - x.year))\n",
    "\n",
    "X_train[\"customer_since_all\"] = pd.to_datetime(X_train[\"customer_since_all\"])\n",
    "X_train[\"customer_since_all_years\"] = X_train[\"customer_since_all\"].apply(lambda x : (pd.datetime.now().year - x.year))\n",
    "\n",
    "X_train[\"customer_since_bank\"] = pd.to_datetime(X_train[\"customer_since_bank\"])\n",
    "X_train[\"customer_since_bank_years\"] = X_train[\"customer_since_bank\"].apply(lambda x : (pd.datetime.now().year - x.year))"
   ]
  },
  {
   "cell_type": "code",
   "execution_count": null,
   "id": "3679a09c",
   "metadata": {},
   "outputs": [],
   "source": [
    "## drop customer_since_all, customer_since_bank, customer_birth_date\n",
    "\n",
    "X_train.drop(['customer_since_all', 'customer_since_bank', 'customer_birth_date', 'customer_postal_code'], axis=1, inplace=True)"
   ]
  },
  {
   "cell_type": "markdown",
   "id": "14a8876b",
   "metadata": {},
   "source": [
    "### Checking null values"
   ]
  },
  {
   "cell_type": "code",
   "execution_count": null,
   "id": "a1a1cf92",
   "metadata": {},
   "outputs": [],
   "source": [
    "null_counts = X_train.isnull().sum()\n",
    "null_counts[null_counts > 0]"
   ]
  },
  {
   "cell_type": "code",
   "execution_count": null,
   "id": "2f19413a",
   "metadata": {},
   "outputs": [],
   "source": [
    "## drop customer_education\n",
    "X_train.drop(['customer_education'], axis=1, inplace=True)"
   ]
  },
  {
   "cell_type": "code",
   "execution_count": null,
   "id": "0a04684a",
   "metadata": {
    "scrolled": false
   },
   "outputs": [],
   "source": [
    "## impute missing values\n",
    "from sklearn.impute import SimpleImputer\n",
    "\n",
    "imp_mean = SimpleImputer(missing_values=np.nan, strategy='mean')\n",
    "imp_frquent = SimpleImputer(missing_values=np.nan, strategy='most_frequent')\n",
    "\n",
    "X_train.loc(axis=1)[\"customer_occupation_code\", \"customer_children\", \"customer_relationship\"] = imp_frquent.fit_transform(X_train.loc(axis=1)[\"customer_occupation_code\", \"customer_children\", \"customer_relationship\"])\n",
    "X_train.loc(axis=1)[[\"customer_since_all_years\", \"customer_since_bank_years\"]] = imp_mean.fit_transform(X_train.loc(axis=1)[[\"customer_since_all_years\", \"customer_since_bank_years\"]])"
   ]
  },
  {
   "cell_type": "markdown",
   "id": "37919691",
   "metadata": {},
   "source": [
    "## encoding categorical features"
   ]
  },
  {
   "cell_type": "code",
   "execution_count": null,
   "id": "a691753b",
   "metadata": {},
   "outputs": [],
   "source": [
    "# categorical features ---> customer_occupation_code, customer_children, customer_relationship, customer_gender, customer_self_employed, visits_distinct_so, visits_distinct_so_areas\n",
    "X_train[\"customer_relationship\"].unique()"
   ]
  },
  {
   "cell_type": "code",
   "execution_count": null,
   "id": "bc7c6725",
   "metadata": {},
   "outputs": [],
   "source": [
    "occupation_codes = [f\"is_occupation_code_{i}\" for i in pd.get_dummies(X_train['customer_occupation_code']).columns]\n",
    "X_train[occupation_codes] = pd.get_dummies(X_train['customer_occupation_code'])\n",
    "\n",
    "customer_children_codes = [f\"is_customer_children_{i}\" for i in pd.get_dummies(X_train['customer_children']).columns]\n",
    "X_train[customer_children_codes] = pd.get_dummies(X_train['customer_children'])\n",
    "\n",
    "visitis_distinct_codes = [f\"is_visits_distinct_so_{i}\" for i in pd.get_dummies(X_train['visits_distinct_so']).columns]\n",
    "X_train[visitis_distinct_codes] = pd.get_dummies(X_train['visits_distinct_so'])\n",
    "\n",
    "visitis_distinct_areas_codes = [f\"is_visits_distinct_areas_{i}\" for i in pd.get_dummies(X_train['visits_distinct_so_areas']).columns]\n",
    "X_train[visitis_distinct_areas_codes] = pd.get_dummies(X_train['visits_distinct_so_areas'])"
   ]
  },
  {
   "cell_type": "code",
   "execution_count": null,
   "id": "2ba34ed8",
   "metadata": {},
   "outputs": [],
   "source": [
    "X_train['customer_gender'] = X_train['customer_gender'].replace([1,2],[0,1])\n",
    "X_train['customer_relationship'] = X_train['customer_relationship'].replace(['single','couple'],[0,1])"
   ]
  },
  {
   "cell_type": "markdown",
   "id": "f4b3772e",
   "metadata": {},
   "source": [
    "#### delete encoded columns"
   ]
  },
  {
   "cell_type": "code",
   "execution_count": null,
   "id": "53094bd2",
   "metadata": {},
   "outputs": [],
   "source": [
    "X_train.drop(['customer_occupation_code', 'customer_children', 'visits_distinct_so', 'visits_distinct_so_areas'], axis=1, inplace=True)"
   ]
  },
  {
   "cell_type": "code",
   "execution_count": null,
   "id": "ed10dda8",
   "metadata": {},
   "outputs": [],
   "source": [
    "## try to add some features\n",
    "# # bal_insurance = bal_insurance_21 + bal_insurance_23\n",
    "# X_train[\"bal_insurance\"] = X_train[\"bal_insurance_21\"] + X_train[\"bal_insurance_23\"]\n",
    "\n",
    "# X_train[\"bal_loan\"] = X_train[\"bal_mortgage_loan\"] + X_train[\"bal_personal_loan\"]\n",
    "\n",
    "# X_train[\"bal_starter\"] = X_train[\"bal_savings_account_starter\"] + X_train[\"bal_current_account_starter\"]\n",
    "\n",
    "# X_train[\"bal_money\"] = X_train[\"bal_pension_saving\"] + X_train[\"bal_savings_account\"] + X_train[\"bal_current_account\"]\n",
    "\n",
    "# X_train[\"cap\"] = X_train[\"cap_life_insurance_decreasing_cap\"] + X_train[\"cap_life_insurance_fixed_cap\"]\n",
    "\n",
    "# X_train.drop(['bal_insurance_21', 'bal_insurance_23', 'bal_mortgage_loan', 'bal_personal_loan', 'bal_savings_account_starter'\n",
    "#              ,'bal_current_account_starter','cap_life_insurance_decreasing_cap','cap_life_insurance_fixed_cap','bal_pension_saving', 'bal_savings_account', 'bal_current_account'], axis=1, inplace=True)"
   ]
  },
  {
   "cell_type": "code",
   "execution_count": null,
   "id": "05280403",
   "metadata": {},
   "outputs": [],
   "source": []
  },
  {
   "cell_type": "markdown",
   "id": "8ba9d753",
   "metadata": {},
   "source": [
    "## Categorizing features"
   ]
  },
  {
   "cell_type": "code",
   "execution_count": null,
   "id": "2b20e28d",
   "metadata": {},
   "outputs": [],
   "source": [
    "# perform a uniform discretization transform of the dataset\n",
    "#\n",
    "#kb1 = KBinsDiscretizer(n_bins=10, encode='ordinal', strategy='uniform')\n",
    "kb1 = KBinsDiscretizer(n_bins=100, encode='ordinal', strategy='uniform')\n",
    "#kb1 = KBinsDiscretizer(n_bins=50, encode='ordinal', strategy='uniform')\n",
    "\n",
    "columns = ['bal_insurance_21','bal_insurance_23','bal_mortgage_loan','bal_personal_loan','bal_savings_account_starter',\n",
    "          'bal_current_account_starter','bal_pension_saving','bal_savings_account','bal_current_account','cap_life_insurance_decreasing_cap',\n",
    "          'cap_life_insurance_fixed_cap']\n",
    "\n",
    "X_train[columns] = kb1.fit_transform(X_train[columns])"
   ]
  },
  {
   "cell_type": "markdown",
   "id": "7a481ec7",
   "metadata": {},
   "source": [
    "## Applying same transformation to test data"
   ]
  },
  {
   "cell_type": "code",
   "execution_count": null,
   "id": "ba025749",
   "metadata": {},
   "outputs": [],
   "source": [
    "X_test[\"customer_birth_date\"] = pd.to_datetime(X_test[\"customer_birth_date\"])\n",
    "X_test[\"age\"] = X_test[\"customer_birth_date\"].apply(lambda x : (pd.datetime.now().year - x.year))\n",
    "\n",
    "X_test[\"customer_since_all\"] = pd.to_datetime(X_test[\"customer_since_all\"])\n",
    "X_test[\"customer_since_all_years\"] = X_test[\"customer_since_all\"].apply(lambda x : (pd.datetime.now().year - x.year))\n",
    "\n",
    "X_test[\"customer_since_bank\"] = pd.to_datetime(X_test[\"customer_since_bank\"])\n",
    "X_test[\"customer_since_bank_years\"] = X_test[\"customer_since_bank\"].apply(lambda x : (pd.datetime.now().year - x.year))"
   ]
  },
  {
   "cell_type": "code",
   "execution_count": null,
   "id": "d0652bb0",
   "metadata": {},
   "outputs": [],
   "source": [
    "## drop customer_since_all, customer_since_bank, customer_birth_date\n",
    "\n",
    "X_test.drop(['customer_since_all', 'customer_since_bank', 'customer_birth_date', 'customer_postal_code'], axis=1, inplace=True)"
   ]
  },
  {
   "cell_type": "code",
   "execution_count": null,
   "id": "8d258dba",
   "metadata": {},
   "outputs": [],
   "source": [
    "## drop customer_education\n",
    "X_test.drop(['customer_education'], axis=1, inplace=True)"
   ]
  },
  {
   "cell_type": "code",
   "execution_count": null,
   "id": "73d120b4",
   "metadata": {},
   "outputs": [],
   "source": [
    "X_test.loc(axis=1)[\"customer_occupation_code\", \"customer_children\", \"customer_relationship\"] = imp_frquent.transform(X_test.loc(axis=1)[\"customer_occupation_code\", \"customer_children\", \"customer_relationship\"])\n",
    "X_test.loc(axis=1)[[\"customer_since_all_years\", \"customer_since_bank_years\"]] = imp_mean.transform(X_test.loc(axis=1)[[\"customer_since_all_years\", \"customer_since_bank_years\"]])"
   ]
  },
  {
   "cell_type": "code",
   "execution_count": null,
   "id": "841e89e1",
   "metadata": {},
   "outputs": [],
   "source": [
    "X_test['customer_gender'] = X_test['customer_gender'].replace([1,2],[0,1])\n",
    "X_test['customer_relationship'] = X_test['customer_relationship'].replace(['single','couple'],[0,1])"
   ]
  },
  {
   "cell_type": "code",
   "execution_count": null,
   "id": "c858608c",
   "metadata": {},
   "outputs": [],
   "source": [
    "occupation_codes = [f\"is_occupation_code_{i}\" for i in pd.get_dummies(X_test['customer_occupation_code']).columns]\n",
    "X_test[occupation_codes] = pd.get_dummies(X_test['customer_occupation_code'])\n",
    "\n",
    "customer_children_codes = [f\"is_customer_children_{i}\" for i in pd.get_dummies(X_test['customer_children']).columns]\n",
    "X_test[customer_children_codes] = pd.get_dummies(X_test['customer_children'])\n",
    "\n",
    "visitis_distinct_codes = [f\"is_visits_distinct_so_{i}\" for i in pd.get_dummies(X_test['visits_distinct_so']).columns]\n",
    "X_test[visitis_distinct_codes] = pd.get_dummies(X_test['visits_distinct_so'])\n",
    "\n",
    "visitis_distinct_areas_codes = [f\"is_visits_distinct_areas_{i}\" for i in pd.get_dummies(X_test['visits_distinct_so_areas']).columns]\n",
    "X_test[visitis_distinct_areas_codes] = pd.get_dummies(X_test['visits_distinct_so_areas'])"
   ]
  },
  {
   "cell_type": "code",
   "execution_count": null,
   "id": "46a590a1",
   "metadata": {},
   "outputs": [],
   "source": [
    "X_test.drop(['customer_occupation_code', 'customer_children', 'visits_distinct_so', 'visits_distinct_so_areas'], axis=1, inplace=True)"
   ]
  },
  {
   "cell_type": "code",
   "execution_count": null,
   "id": "b3da77af",
   "metadata": {},
   "outputs": [],
   "source": [
    "# bal_insurance = bal_insurance_21 + bal_insurance_23\n",
    "# X_test[\"bal_insurance\"] = X_test[\"bal_insurance_21\"] + X_test[\"bal_insurance_23\"]\n",
    "\n",
    "# X_test[\"bal_loan\"] = X_test[\"bal_mortgage_loan\"] + X_test[\"bal_personal_loan\"]\n",
    "\n",
    "# X_test[\"bal_starter\"] = X_test[\"bal_savings_account_starter\"] + X_test[\"bal_current_account_starter\"]\n",
    "\n",
    "# X_test[\"bal_money\"] = X_test[\"bal_pension_saving\"] + X_test[\"bal_savings_account\"] + X_test[\"bal_current_account\"]\n",
    "\n",
    "# X_test[\"cap\"] = X_test[\"cap_life_insurance_decreasing_cap\"] + X_test[\"cap_life_insurance_fixed_cap\"]"
   ]
  },
  {
   "cell_type": "code",
   "execution_count": null,
   "id": "6162f43b",
   "metadata": {},
   "outputs": [],
   "source": [
    "# X_test.drop(['bal_insurance_21', 'bal_insurance_23', 'bal_mortgage_loan', 'bal_personal_loan', 'bal_savings_account_starter'\n",
    "#              ,'bal_current_account_starter','cap_life_insurance_decreasing_cap','cap_life_insurance_fixed_cap', 'bal_pension_saving', 'bal_savings_account', 'bal_current_account'], axis=1, inplace=True)"
   ]
  },
  {
   "cell_type": "code",
   "execution_count": null,
   "id": "402b34a2",
   "metadata": {},
   "outputs": [],
   "source": [
    "# perform a uniform discretization transform of the dataset\n",
    "\n",
    "X_test[columns] = kb1.transform(X_test[columns])"
   ]
  },
  {
   "cell_type": "code",
   "execution_count": null,
   "id": "30883fb2",
   "metadata": {},
   "outputs": [],
   "source": [
    "from sklearn.linear_model import LogisticRegression\n",
    "from sklearn.svm import SVC"
   ]
  },
  {
   "cell_type": "code",
   "execution_count": null,
   "id": "12128d9d",
   "metadata": {},
   "outputs": [],
   "source": [
    "#clf1 ---> without class_weight\n",
    "clf1 = LogisticRegression(random_state=0,solver='liblinear', penalty='l2', max_iter=1000).fit(X_train, y_train)\n",
    "\n",
    "#clf2 ---> with class_weight \n",
    "clf2 = LogisticRegression(C=1, random_state=0,solver='liblinear', penalty='l2', max_iter=1000, class_weight='balanced').fit(X_train, y_train)\n",
    "\n",
    "#clf3 = SVC(class_weight='balanced', C = 100, probability=True, kernel='rbf',verbose=True).fit(X_train, y_train)"
   ]
  },
  {
   "cell_type": "code",
   "execution_count": null,
   "id": "995ddb0d",
   "metadata": {},
   "outputs": [],
   "source": [
    "X_test = X_test.reindex(columns = X_train.columns, fill_value=0)"
   ]
  },
  {
   "cell_type": "code",
   "execution_count": null,
   "id": "1991504d",
   "metadata": {},
   "outputs": [],
   "source": [
    "# making predictions with both of the classifiers\n",
    "\n",
    "y_pred1 = clf1.predict(X_test)\n",
    "y_pred2 = clf2.predict(X_test)\n",
    "#y_pred3 = clf3.predict(X_test)"
   ]
  },
  {
   "cell_type": "code",
   "execution_count": null,
   "id": "132eee4c",
   "metadata": {},
   "outputs": [],
   "source": [
    "from sklearn import metrics\n",
    "\n",
    "print(\"For classifier one: \")\n",
    "\n",
    "print(\"Accuracy = \", metrics.accuracy_score(y_test, y_pred1))\n",
    "print(\"Precision = \", metrics.precision_score(y_test, y_pred1, average='binary'))\n",
    "print(\"Recall = \",metrics.recall_score(y_test, y_pred1))\n",
    "print(\"F1 = \", metrics.f1_score(y_test, y_pred1))\n",
    "print(\"auc = \", metrics.roc_auc_score(y_test, clf1.predict_proba(X_test)[:, 1]))\n",
    "\n",
    "print()\n",
    "print(\"For classifier two: \")\n",
    "\n",
    "print(\"Accuracy = \", metrics.accuracy_score(y_test, y_pred2))\n",
    "print(\"Precision = \", metrics.precision_score(y_test, y_pred2, average='binary', labels=1))\n",
    "print(\"Recall = \",metrics.recall_score(y_test, y_pred2))\n",
    "print(\"F1 = \", metrics.f1_score(y_test, y_pred2))\n",
    "print(\"Auc = \", metrics.roc_auc_score(y_test, clf2.predict_proba(X_test)[:, 1]))\n",
    "\n",
    "print(metrics.classification_report(y_test, y_pred2))\n",
    "\n",
    "# print(\"Accuracy = \", metrics.accuracy_score(y_test, y_pred3))\n",
    "# print(\"Precision = \", metrics.precision_score(y_test, y_pred3, average='binary', labels=1))\n",
    "# print(\"Recall = \",metrics.recall_score(y_test, y_pred3))\n",
    "# print(\"F1 = \", metrics.f1_score(y_test, y_pred3, average='micro'))\n",
    "# print(\"Auc = \", metrics.roc_auc_score(y_test, clf3.predict_proba(X_test)[:, 1]))\n",
    "\n",
    "# print(metrics.classification_report(y_test, y_pred3))"
   ]
  },
  {
   "cell_type": "code",
   "execution_count": null,
   "id": "edf05f1f",
   "metadata": {},
   "outputs": [],
   "source": [
    "plt.figure(figsize=(10,8))\n",
    "cm = metrics.confusion_matrix(y_test, y_pred1)\n",
    "sns.heatmap(cm, annot=True, annot_kws={\"size\": 16}) # font size\n",
    "plt.title(\"Logistic Regression without class weighting\")\n",
    "print(cm)"
   ]
  },
  {
   "cell_type": "code",
   "execution_count": null,
   "id": "85859bc0",
   "metadata": {},
   "outputs": [],
   "source": [
    "plt.figure(figsize=(10,8))\n",
    "cm = metrics.confusion_matrix(y_test, y_pred2)\n",
    "sns.heatmap(cm, annot=True, annot_kws={\"size\": 16}) # font size\n",
    "plt.title(\"Logistic Regression with class weighting\")\n",
    "print(cm)"
   ]
  },
  {
   "cell_type": "markdown",
   "id": "94b614e2",
   "metadata": {},
   "source": [
    "### Model selection"
   ]
  },
  {
   "cell_type": "code",
   "execution_count": null,
   "id": "19af9a61",
   "metadata": {},
   "outputs": [],
   "source": [
    "# from sklearn.model_selection import GridSearchCV\n",
    "# parameters = [{'solver': ['newton-cg', 'lbfgs', 'liblinear', 'sag', 'saga']},\n",
    "#               {'penalty':['none', 'elasticnet', 'l1', 'l2']},\n",
    "#               {'C':[0.001, 0.01, 0.1, 1, 10, 100]},\n",
    "#              {'class_weight':['balanced', {\"0\":0.1,\"1\":0.9},{\"0\":0.05,\"1\":0.995}]},\n",
    "#               {\"max_iter\":[100,1000]}\n",
    "#              ]\n",
    "\n",
    "# grid_search = GridSearchCV(estimator = clf2,  \n",
    "#                            param_grid = parameters,\n",
    "#                            cv = 5,\n",
    "#                            verbose=1)\n",
    "\n",
    "\n",
    "# grid_search.fit(X_train, y_train)"
   ]
  },
  {
   "cell_type": "markdown",
   "id": "4bdb8f88",
   "metadata": {},
   "source": [
    "# Test Data Results"
   ]
  },
  {
   "cell_type": "code",
   "execution_count": null,
   "id": "f9ec634b",
   "metadata": {},
   "outputs": [],
   "source": [
    "test_data = pd.read_csv('/home/omar/Documents/MAI/Semester2/Advanced-analytics/data/test_month_3.csv')\n",
    "client_ids = test_data[\"client_id\"]\n",
    "\n",
    "test_data[\"customer_birth_date\"] = pd.to_datetime(test_data[\"customer_birth_date\"])\n",
    "test_data[\"age\"] = test_data[\"customer_birth_date\"].apply(lambda x : (pd.datetime.now().year - x.year))\n",
    "\n",
    "test_data[\"customer_since_all\"] = pd.to_datetime(test_data[\"customer_since_all\"])\n",
    "test_data[\"customer_since_all_years\"] = test_data[\"customer_since_all\"].apply(lambda x : (pd.datetime.now().year - x.year))\n",
    "\n",
    "test_data[\"customer_since_bank\"] = pd.to_datetime(test_data[\"customer_since_bank\"])\n",
    "test_data[\"customer_since_bank_years\"] = test_data[\"customer_since_bank\"].apply(lambda x : (pd.datetime.now().year - x.year))\n",
    "\n",
    "## drop customer_since_all, customer_since_bank, customer_birth_date\n",
    "\n",
    "test_data.drop(['customer_since_all', 'customer_since_bank', 'customer_birth_date', 'customer_postal_code'], axis=1, inplace=True)\n",
    "\n",
    "## drop customer_education\n",
    "test_data.drop(['customer_education'], axis=1, inplace=True)\n",
    "\n",
    "test_data.loc(axis=1)[\"customer_occupation_code\", \"customer_children\", \"customer_relationship\"] = imp_frquent.transform(test_data.loc(axis=1)[\"customer_occupation_code\", \"customer_children\", \"customer_relationship\"])\n",
    "test_data.loc(axis=1)[[\"customer_since_all_years\", \"customer_since_bank_years\"]] = imp_mean.transform(test_data.loc(axis=1)[[\"customer_since_all_years\", \"customer_since_bank_years\"]])\n",
    "\n",
    "test_data['customer_gender'] = test_data['customer_gender'].replace([1,2],[0,1])\n",
    "test_data['customer_relationship'] = test_data['customer_relationship'].replace(['single','couple'],[0,1])\n",
    "\n",
    "occupation_codes = [f\"is_occupation_code_{i}\" for i in pd.get_dummies(test_data['customer_occupation_code']).columns]\n",
    "test_data[occupation_codes] = pd.get_dummies(test_data['customer_occupation_code'])\n",
    "\n",
    "customer_children_codes = [f\"is_customer_children_{i}\" for i in pd.get_dummies(test_data['customer_children']).columns]\n",
    "test_data[customer_children_codes] = pd.get_dummies(test_data['customer_children'])\n",
    "\n",
    "visitis_distinct_codes = [f\"is_visits_distinct_so_{i}\" for i in pd.get_dummies(test_data['visits_distinct_so']).columns]\n",
    "test_data[visitis_distinct_codes] = pd.get_dummies(test_data['visits_distinct_so'])\n",
    "\n",
    "visitis_distinct_areas_codes = [f\"is_visits_distinct_areas_{i}\" for i in pd.get_dummies(test_data['visits_distinct_so_areas']).columns]\n",
    "test_data[visitis_distinct_areas_codes] = pd.get_dummies(test_data['visits_distinct_so_areas'])\n",
    "\n",
    "test_data.drop(['customer_occupation_code', 'customer_children', 'visits_distinct_so', 'visits_distinct_so_areas'], axis=1, inplace=True)\n",
    "\n",
    "# perform a uniform discretization transform of the dataset\n",
    "\n",
    "test_data[columns] = kb1.transform(test_data[columns])\n",
    "\n",
    "test_data = test_data.reindex(columns = X_train.columns, fill_value=0)\n",
    "\n",
    "#clf2.fit(pd.concat([X_train,X_test]),pd.concat([y_train,y_test]))\n",
    "\n",
    "y_final_test = clf2.predict(test_data)\n",
    "\n",
    "from collections import Counter\n",
    "print(Counter(y_final_test))\n",
    "\n",
    "scores = pd.DataFrame({'id':client_ids, \"scores\":clf2.predict_proba(test_data)[:,1]})\n",
    "\n",
    "scores.to_csv('scores_try2.csv',header=False, index=False)"
   ]
  },
  {
   "cell_type": "code",
   "execution_count": null,
   "id": "40229fee",
   "metadata": {},
   "outputs": [],
   "source": [
    "# Counter({0: 18624, 1: 8676})"
   ]
  },
  {
   "cell_type": "code",
   "execution_count": null,
   "id": "2e3f3bed",
   "metadata": {},
   "outputs": [],
   "source": []
  }
 ],
 "metadata": {
  "kernelspec": {
   "display_name": "Python 3 (ipykernel)",
   "language": "python",
   "name": "python3"
  },
  "language_info": {
   "codemirror_mode": {
    "name": "ipython",
    "version": 3
   },
   "file_extension": ".py",
   "mimetype": "text/x-python",
   "name": "python",
   "nbconvert_exporter": "python",
   "pygments_lexer": "ipython3",
   "version": "3.8.10"
  }
 },
 "nbformat": 4,
 "nbformat_minor": 5
}
